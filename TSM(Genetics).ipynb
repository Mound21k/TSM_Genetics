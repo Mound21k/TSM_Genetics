{
 "cells": [
  {
   "cell_type": "markdown",
   "id": "5569101f",
   "metadata": {},
   "source": [
    "### Importing Dependencies"
   ]
  },
  {
   "cell_type": "code",
   "execution_count": 1,
   "id": "109ad149",
   "metadata": {},
   "outputs": [],
   "source": [
    "from random import randint as rnd\n",
    "from random import shuffle\n",
    "import matplotlib.pyplot as plt\n",
    "import cv2\n",
    "import numpy as np\n",
    "from math import sqrt"
   ]
  },
  {
   "cell_type": "markdown",
   "id": "06f0c091",
   "metadata": {},
   "source": [
    "### Setting the Problem and Algorithms Parameters"
   ]
  },
  {
   "cell_type": "code",
   "execution_count": 2,
   "id": "45c2d1d9",
   "metadata": {},
   "outputs": [],
   "source": [
    "N = 20\n",
    "\n",
    "WIDTH = 1000\n",
    "HEIGHT = 1000\n",
    "\n",
    "MAX_POPULATION = 500\n",
    "MUTATION_RATE = 0.8\n",
    "\n",
    "MAIN_EPOCH = 5\n",
    "SUB_EPOCH = 200"
   ]
  },
  {
   "cell_type": "markdown",
   "id": "76553fa4",
   "metadata": {},
   "source": [
    "### City Randomizer Function"
   ]
  },
  {
   "cell_type": "code",
   "execution_count": 3,
   "id": "0dd2545b",
   "metadata": {},
   "outputs": [],
   "source": [
    "def city_randomizer(n, w, h):\n",
    "    _list = []\n",
    "    padding=20\n",
    "    i = 0\n",
    "    while i<n:\n",
    "        x=rnd(padding,w-padding)\n",
    "        y=rnd(padding,h-padding)\n",
    "        if (x,y) not in _list:\n",
    "            _list.append((x,y))\n",
    "            i+=1\n",
    "    return _list"
   ]
  },
  {
   "cell_type": "markdown",
   "id": "89346621",
   "metadata": {},
   "source": [
    "### Initial Population Function"
   ]
  },
  {
   "cell_type": "code",
   "execution_count": 4,
   "id": "37d6bfca",
   "metadata": {},
   "outputs": [],
   "source": [
    "def new_path(n):\n",
    "    path = [i for i in range(n)]\n",
    "    shuffle(path)\n",
    "    return path+[None]\n",
    "def init_population(n, m):\n",
    "    population_list = [new_path(n) for i in range(m)]\n",
    "    return population_list"
   ]
  },
  {
   "cell_type": "markdown",
   "id": "6e899d09",
   "metadata": {},
   "source": [
    "### Cross Over Function"
   ]
  },
  {
   "cell_type": "code",
   "execution_count": 5,
   "id": "5dd912b2",
   "metadata": {},
   "outputs": [],
   "source": [
    "def cross_over(population_list, n, m):\n",
    "    for i in range(m):\n",
    "        population_list.append(population_list[i][:n]+[None])\n",
    "    return population_list"
   ]
  },
  {
   "cell_type": "markdown",
   "id": "379e2c31",
   "metadata": {},
   "source": [
    "### Mutation Function"
   ]
  },
  {
   "cell_type": "code",
   "execution_count": 6,
   "id": "196446b4",
   "metadata": {},
   "outputs": [],
   "source": [
    "def swap(lst, index1, index2):\n",
    "    lst[index1], lst[index2] = lst[index2], lst[index1]\n",
    "    return lst\n",
    "def mutation(population_list, n , m, r):\n",
    "    choosen_ones = [i for i in range(m,m*2)]\n",
    "    shuffle(choosen_ones)\n",
    "    choosen_ones = choosen_ones[:int(m*r)]\n",
    "    for i in choosen_ones:\n",
    "        cell1=rnd(0,n-1)\n",
    "        cell2=rnd(0,n-1)\n",
    "        population_list[i] = swap(population_list[i], cell1, cell2)\n",
    "    return population_list"
   ]
  },
  {
   "cell_type": "markdown",
   "id": "6b6fc924",
   "metadata": {},
   "source": [
    "### Fitness Function"
   ]
  },
  {
   "cell_type": "code",
   "execution_count": 7,
   "id": "38cfcd52",
   "metadata": {},
   "outputs": [],
   "source": [
    "def transformer(cities, path):\n",
    "    for i in range(len(path)):\n",
    "        path[i]=cities[path[i]]\n",
    "    return path\n",
    "def distance(path):\n",
    "    dis = 0\n",
    "    for i in range(len(path)-1):\n",
    "        dis+=sqrt(((path[i][0]-path[i+1][0])**2) + ((path[i][1]-path[i+1][1])**2))\n",
    "    return dis\n",
    "def fitness(population_list, cities_locations, n):\n",
    "    length = len(population_list)\n",
    "    for i in range(length):\n",
    "        if population_list[i][n]==None:\n",
    "            path = transformer(cities_locations, population_list[i][:n]+[population_list[i][0]])\n",
    "            population_list[i][n]=distance(path)\n",
    "    return population_list"
   ]
  },
  {
   "cell_type": "markdown",
   "id": "ff9cb3db",
   "metadata": {},
   "source": [
    "### Visualization Functions"
   ]
  },
  {
   "cell_type": "code",
   "execution_count": 8,
   "id": "7580f30a",
   "metadata": {},
   "outputs": [],
   "source": [
    "def city_drawer(img, c_locations, color):\n",
    "    for city in c_locations:\n",
    "        img = cv2.circle(img, (city[0],city[1]), 5, color, -1)\n",
    "    return img\n",
    "def path_drawer(img, path, color):\n",
    "    for i in range(len(path)-1):\n",
    "        img = cv2.line(img, path[i], path[i+1], color, 2)\n",
    "    return img"
   ]
  },
  {
   "cell_type": "markdown",
   "id": "33313c99",
   "metadata": {},
   "source": [
    "### Main"
   ]
  },
  {
   "cell_type": "code",
   "execution_count": 9,
   "id": "ee147359",
   "metadata": {},
   "outputs": [
    {
     "data": {
      "image/png": "[encoded data removed]",
      "text/plain": [
       "<Figure size 432x288 with 1 Axes>"
      ]
     },
     "metadata": {
      "needs_background": "light"
     },
     "output_type": "display_data"
    },
    {
     "name": "stdout",
     "output_type": "stream",
     "text": [
      "Best Solution: [9, 11, 4, 7, 19, 12, 8, 2, 3, 5, 10, 16, 1, 6, 15, 13, 14, 17, 18, 0, 3451.5524175720975]\n"
     ]
    }
   ],
   "source": [
    "img = np.full((WIDTH,HEIGHT,3),255,np.uint8)\n",
    "cities_locations = city_randomizer(N, WIDTH, HEIGHT)\n",
    "current_population = init_population(N, MAX_POPULATION)\n",
    "for i in range(SUB_EPOCH):\n",
    "    current_population = cross_over(current_population, N, MAX_POPULATION)\n",
    "    current_population = mutation(current_population, N, MAX_POPULATION, MUTATION_RATE)\n",
    "    current_population = fitness(current_population, cities_locations, N)\n",
    "    current_population = sorted(current_population, key=lambda x:x[N])\n",
    "    current_population = current_population[:MAX_POPULATION]\n",
    "    #print(f\"{i+1} => Best Solution so far:\", current_population[0])\n",
    "else:\n",
    "    img = city_drawer(img, cities_locations, (255,0,0))\n",
    "    current_path = transformer(cities_locations, current_population[0][:N])\n",
    "    current_path.append(tuple(current_path[0]))\n",
    "    img = path_drawer(img, current_path, (0,0,255))\n",
    "    plt.imshow(img)\n",
    "    #plt.title(f\"{current_population[0]}\")\n",
    "    plt.show()\n",
    "    print(\"Best Solution:\",current_population[0])"
   ]
  },
  {
   "cell_type": "code",
   "execution_count": null,
   "id": "aa1d14e1",
   "metadata": {},
   "outputs": [],
   "source": []
  },
  {
   "cell_type": "code",
   "execution_count": null,
   "id": "25eaae6d",
   "metadata": {},
   "outputs": [],
   "source": []
  }
 ],
 "metadata": {
  "kernelspec": {
   "display_name": "Python 3 (ipykernel)",
   "language": "python",
   "name": "python3"
  },
  "language_info": {
   "codemirror_mode": {
    "name": "ipython",
    "version": 3
   },
   "file_extension": ".py",
   "mimetype": "text/x-python",
   "name": "python",
   "nbconvert_exporter": "python",
   "pygments_lexer": "ipython3",
   "version": "3.9.4"
  }
 },
 "nbformat": 4,
 "nbformat_minor": 5
}
